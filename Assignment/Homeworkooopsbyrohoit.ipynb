{
  "cells": [
    {
      "cell_type": "code",
      "execution_count": null,
      "metadata": {
        "colab": {
          "base_uri": "https://localhost:8080/"
        },
        "id": "uwwO-WrOGvR4",
        "outputId": "8f27f540-28ce-492b-ce47-c831955956de"
      },
      "outputs": [
        {
          "name": "stdout",
          "output_type": "stream",
          "text": [
            "After swapping the numbers using third variable tem\n",
            "a after swap 20\n",
            "b after swap 50\n"
          ]
        }
      ],
      "source": [
        "# 1) Swap two numbers using 3rd variable\n",
        "a = 50\n",
        "b = 20\n",
        "tem = a\n",
        "a = b\n",
        "b = tem\n",
        "print(\"After swapping the numbers using third variable tem\")\n",
        "print(\"a after swap\",a)\n",
        "print(\"b after swap\",b)"
      ]
    },
    {
      "cell_type": "code",
      "execution_count": null,
      "metadata": {
        "colab": {
          "base_uri": "https://localhost:8080/"
        },
        "id": "OGbcHDwHIjcl",
        "outputId": "0a6e427f-282d-4a87-ac09-858870f9014e"
      },
      "outputs": [
        {
          "name": "stdout",
          "output_type": "stream",
          "text": [
            "after swapping a= 20 b= 50\n"
          ]
        }
      ],
      "source": [
        "# 2) Swap two numbers without using 3rd variable\n",
        "# usign arithmetic logic\n",
        "a = 50\n",
        "b = 20\n",
        "a = a + b\n",
        "b = a -b\n",
        "a = a-b\n",
        "print(\"after swapping\",\"a=\",a,\"b=\",b)"
      ]
    },
    {
      "cell_type": "code",
      "execution_count": null,
      "metadata": {
        "colab": {
          "base_uri": "https://localhost:8080/"
        },
        "id": "Tj7-vjdxKbo1",
        "outputId": "0c1d1965-e5e0-4e69-cdc3-b5e2e0ac214f"
      },
      "outputs": [
        {
          "name": "stdout",
          "output_type": "stream",
          "text": [
            "correctlist [1, 3, 4, 5, 6, 7, 2]\n"
          ]
        }
      ],
      "source": [
        "# 3) Remove duplicate elements from a list without converting to tuple\n",
        "list1 = [1,1,3,4,5,6,7,2,1,2]\n",
        "correctlist=[]\n",
        "for i in list1:\n",
        "  if i not in correctlist:\n",
        "    correctlist.append(i)\n",
        "    correctlist\n",
        "\n",
        "print(\"correctlist\",correctlist)\n",
        "\n"
      ]
    },
    {
      "cell_type": "code",
      "execution_count": null,
      "metadata": {
        "id": "YEjpbQnvRi6X"
      },
      "outputs": [],
      "source": [
        "# 4) Write a loop to print following series\n",
        "# 10, 20, 30,  …………………, 300\n",
        "list1 = []\n",
        "for numbers in  range(10,301,10): # start, end, increasement\n",
        "  list1.append(numbers)\n",
        "list1\n",
        "\n",
        "\n",
        "\n"
      ]
    },
    {
      "cell_type": "code",
      "execution_count": null,
      "metadata": {
        "colab": {
          "base_uri": "https://localhost:8080/"
        },
        "id": "pqZY7NC5YXWG",
        "outputId": "a46d4fc6-a9bf-4aec-cd6e-38f2301248aa"
      },
      "outputs": [
        {
          "data": {
            "text/plain": [
              "[105, 98, 91, 84, 77, 70, 63, 56, 49, 42, 35, 28, 21, 14, 7]"
            ]
          },
          "execution_count": 120,
          "metadata": {},
          "output_type": "execute_result"
        }
      ],
      "source": [
        "# 5) Write a loop to print following series\n",
        "# # 105,98,91,………………………,7\n",
        "series2 = []\n",
        "for numbers2 in range(105,6,-7): # do minus gives decreasements\n",
        "  series2.append(numbers2)\n",
        "series2\n",
        "\n",
        "\n"
      ]
    },
    {
      "cell_type": "code",
      "execution_count": null,
      "metadata": {
        "colab": {
          "base_uri": "https://localhost:8080/"
        },
        "id": "Yb3Ivyy_xgrS",
        "outputId": "2de225a9-4ac2-4409-f2cf-2e85c85d31ce"
      },
      "outputs": [
        {
          "output_type": "stream",
          "name": "stdout",
          "text": [
            "0 ,1 ,1 ,2 ,3 ,5 ,8 ,13 ,21 ,34 ,55 ,89 ,144 ,233 ,377 ,610 ,987 ,1597 ,2584 ,4181 ,6765 ,10946 ,17711 ,28657 ,46368 ,75025 ,121393 ,196418 ,317811 ,514229 ,832040 ,1346269 ,2178309 ,3524578 ,5702887 ,9227465 ,14930352 ,24157817 ,39088169 ,63245986 ,102334155 ,165580141 ,267914296 ,433494437 ,701408733 ,1134903170 ,1836311903 ,2971215073 ,4807526976 ,7778742049 ,"
          ]
        }
      ],
      "source": [
        "# 7) Write a program to print Fibonacci series till n terms take n =50\n",
        "n=50\n",
        "a = 0\n",
        "b =1\n",
        "for i in range(n):\n",
        "  print(a, end=' ,')\n",
        "  (a,b)=(b,a+b)\n"
      ]
    },
    {
      "cell_type": "code",
      "source": [
        "# 8) Write a program to print factorial of a number\n",
        "def factoriall(n):\n",
        "  if n<0:\n",
        "    print(\"negative haave no factorila\")\n",
        "  elif n==0:\n",
        "    print(\"o\")\n",
        "  else:\n",
        "    for i in range(n-1):\n",
        "      print(i+1,end='*')\n",
        "\n"
      ],
      "metadata": {
        "id": "VjYoTHm-DpA3"
      },
      "execution_count": null,
      "outputs": []
    },
    {
      "cell_type": "code",
      "source": [
        "fact = factoriall(67)"
      ],
      "metadata": {
        "colab": {
          "base_uri": "https://localhost:8080/"
        },
        "id": "PPwH6YwMEzCx",
        "outputId": "c656bc31-92c0-4480-b707-57274de7a34c"
      },
      "execution_count": null,
      "outputs": [
        {
          "output_type": "stream",
          "name": "stdout",
          "text": [
            "1*2*3*4*5*6*7*8*9*10*11*12*13*14*15*16*17*18*19*20*21*22*23*24*25*26*27*28*29*30*31*32*33*34*35*36*37*38*39*40*41*42*43*44*45*46*47*48*49*50*51*52*53*54*55*56*57*58*59*60*61*62*63*64*65*66*"
          ]
        }
      ]
    },
    {
      "cell_type": "code",
      "source": [
        "# 9) Write a program to check if a number is Armstrong or not\n",
        "def armstrong(number):\n",
        "  str_number = str(number)\n",
        "  length_number= len(str_number)\n",
        "  sum = 0\n",
        "  for digits in  str_number:\n",
        "    sum = sum + int(digits)**length_number\n",
        "    try:\n",
        "      if sum == number:\n",
        "        print(\"Given number is armstrognnumber:\")\n",
        "      else:\n",
        "        print(\"not a armstrrong number\")\n",
        "    except:\n",
        "      print(\"error values\")\n",
        "\n"
      ],
      "metadata": {
        "id": "bps7mw74MYst"
      },
      "execution_count": null,
      "outputs": []
    },
    {
      "cell_type": "code",
      "source": [
        "b = armstrong(6)"
      ],
      "metadata": {
        "colab": {
          "base_uri": "https://localhost:8080/"
        },
        "id": "jmtkmtDojAUN",
        "outputId": "a79915ec-a8f2-4f3e-f0de-9ef415751ac0"
      },
      "execution_count": null,
      "outputs": [
        {
          "output_type": "stream",
          "name": "stdout",
          "text": [
            "Given number is armstrognnumber:\n"
          ]
        }
      ]
    },
    {
      "cell_type": "code",
      "source": [
        "# 10) Write a program to convert binary to decimal\n",
        "def convert_bin_dec(number):\n",
        "  bin_number= str(number)\n",
        "  dec_number = 0\n",
        "  power = 0\n",
        "  for digits in  reversed(bin_number):\n",
        "    dec_number  =  dec_number  + int(digits)*2**(power)\n",
        "    power = power +1\n",
        "  print(\"DEcimal number is:\",dec_number)\n"
      ],
      "metadata": {
        "id": "l7YOFNTNmSbb"
      },
      "execution_count": null,
      "outputs": []
    },
    {
      "cell_type": "code",
      "source": [
        "convert_bin_dec(101000)"
      ],
      "metadata": {
        "colab": {
          "base_uri": "https://localhost:8080/"
        },
        "id": "2vD3VcGeoHU7",
        "outputId": "625d0fc1-4001-4d8e-d82f-9748a53c3ff8"
      },
      "execution_count": null,
      "outputs": [
        {
          "output_type": "stream",
          "name": "stdout",
          "text": [
            "DEcimal number is: 40\n"
          ]
        }
      ]
    },
    {
      "cell_type": "code",
      "source": [
        "# 13) Write a program to print all numbers which are divisible by 13 but not by 3 between 100 and 500\n",
        "def divsible_13_notby_3():\n",
        "  for number in range(100,501):\n",
        "    if number % 13 == 0 and number %3!=0:\n",
        "      print(\"this number meets condition\",number)\n",
        "    else:\n",
        "      print(\"this number  no condition\",number)"
      ],
      "metadata": {
        "id": "dYISrC-Mqz12"
      },
      "execution_count": null,
      "outputs": []
    },
    {
      "cell_type": "code",
      "source": [],
      "metadata": {
        "id": "OY6rFs49r1hA"
      },
      "execution_count": null,
      "outputs": []
    },
    {
      "cell_type": "code",
      "source": [
        "divsible_13_notby_3()"
      ],
      "metadata": {
        "id": "5tpsvQpDr7V4"
      },
      "execution_count": null,
      "outputs": []
    },
    {
      "cell_type": "code",
      "source": [
        " #14) Write a Python program to convert temperatures to and from Celsius and Fahrenheit.\n",
        "def tem_en_faher():\n",
        "  Fahrenheit = 0\n",
        "  a = 9/5\n",
        "  celcius_tem = int(input(\"enter the celcius tem:\"))\n",
        "  Fahrenheit =   Fahrenheit + celcius_tem*a + 32\n",
        "  print(\"farhenit tem =\",Fahrenheit)\n",
        "\n"
      ],
      "metadata": {
        "id": "-37X6ldrtf5w"
      },
      "execution_count": null,
      "outputs": []
    },
    {
      "cell_type": "code",
      "source": [
        "b = tem_en_faher()"
      ],
      "metadata": {
        "colab": {
          "base_uri": "https://localhost:8080/"
        },
        "id": "b4PXTlPQvEgV",
        "outputId": "e40cca9a-3c81-4045-88a2-aa6ad76adc13"
      },
      "execution_count": null,
      "outputs": [
        {
          "output_type": "stream",
          "name": "stdout",
          "text": [
            "enter the celcius tem:32\n",
            "farhenit tem = 89.6\n"
          ]
        }
      ]
    },
    {
      "cell_type": "code",
      "source": [
        "#16Write a Python program that accepts a string and calculates the number of digits and letters.\n",
        "# Sample Data: Python 3.2\n",
        "# Expected Output:\n",
        "# Letters 6\n",
        "# Digits 2\n",
        "def finding_num_lett(string_input):\n",
        "  num_of_letter = 0\n",
        "  num_of_digits = 0\n",
        "  for character  in string_input:\n",
        "    if  character.isnumeric():\n",
        "      num_of_digits = num_of_digits +1\n",
        "    if character.isalpha():\n",
        "      num_of_letter = num_of_letter +1\n",
        "  return num_of_digits,num_of_letter"
      ],
      "metadata": {
        "id": "ph5tHOKjv1jH"
      },
      "execution_count": null,
      "outputs": []
    },
    {
      "cell_type": "code",
      "source": [
        "finding_num_lett('ram4.   yt=67')"
      ],
      "metadata": {
        "colab": {
          "base_uri": "https://localhost:8080/"
        },
        "id": "g-GC-rs-xLUw",
        "outputId": "6ceb3103-5aa7-4c55-9f08-eb5b3c092277"
      },
      "execution_count": null,
      "outputs": [
        {
          "output_type": "execute_result",
          "data": {
            "text/plain": [
              "(3, 5)"
            ]
          },
          "metadata": {},
          "execution_count": 214
        }
      ]
    },
    {
      "cell_type": "code",
      "source": [
        "#17) Print all possible combination for a string or a word\n",
        "\n",
        "# Sample input “ABC”\n",
        "\n",
        "# Sample output\n",
        "\n",
        "# BAC\n",
        "\n",
        "# CAB\n",
        "\n",
        "# CBA\n",
        "\n",
        "# ACB\n",
        "\n",
        "# BCA\n"
      ],
      "metadata": {
        "id": "Wavwgh5x0t-b"
      },
      "execution_count": null,
      "outputs": []
    },
    {
      "cell_type": "code",
      "source": [
        "# reverse functionin pythonis used to reverse the numbers like,list,tuples, dictionay, not the string\n",
        "def reverse_words(input_str):\n",
        "    words = input_str.split()  # Split the input string into a list of words\n",
        "    reversed_words = words[::-1]  # Reverse the list of words\n",
        "    reversed_str = ' '.join(reversed_words)  # Join the reversed words back into a string\n",
        "    return reversed_str\n"
      ],
      "metadata": {
        "id": "7VnKZtvgeEoB"
      },
      "execution_count": 50,
      "outputs": []
    },
    {
      "cell_type": "code",
      "source": [
        "input_str = \"ABC\"\n",
        "reversed_str = reverse_words(input_str)\n",
        "print(reversed_str)\n"
      ],
      "metadata": {
        "colab": {
          "base_uri": "https://localhost:8080/"
        },
        "id": "nkX-TqIDmG3U",
        "outputId": "40c9c655-6b61-422b-c4ef-563ededed6a4"
      },
      "execution_count": 49,
      "outputs": [
        {
          "output_type": "stream",
          "name": "stdout",
          "text": [
            "ABC\n"
          ]
        }
      ]
    },
    {
      "cell_type": "code",
      "source": [
        "#18) Write a Python program to check if a triangle is equilateral, isosceles or scalene. Take 3 inputs for each side\n",
        "# Note :\n",
        "# An equilateral triangle is a triangle in which all three sides are equal.\n",
        "# A scalene triangle is a triangle that has three unequal sides.\n",
        "# An isosceles triangle is a triangle with (at least) two equal sides.side\n",
        "side1 = int(input(\"enter the sideone.n\"))\n",
        "side2 = int(input(\"enter the sidetwo:\"))\n",
        "side3 = int(input(\"enter the sidethree:\"))\n",
        "#print(\"side one, side two, side three.\\n\",side1,side2,side3)\n",
        "if side1==side2==side3:\n",
        "  print(\"Given triangel is eqaliteral triange.\\n\")\n",
        "elif side1!=side2!=side3:\n",
        "  print(\"Given triangel is scalenel triange.\\n\")\n",
        "else:\n",
        "  print(\"Given triangel is isosceles triange.\\n\")"
      ],
      "metadata": {
        "colab": {
          "base_uri": "https://localhost:8080/"
        },
        "id": "kfTxxIz_aKue",
        "outputId": "c04876d9-65d3-4921-9963-a683985358ce"
      },
      "execution_count": 65,
      "outputs": [
        {
          "output_type": "stream",
          "name": "stdout",
          "text": [
            "enter the sideone.n1\n",
            "enter the sidetwo:2\n",
            "enter the sidethree:3\n",
            "Given triangel is scalenel triange.\n",
            "\n"
          ]
        }
      ]
    },
    {
      "cell_type": "code",
      "source": [
        "#19) Write a Python program to get the next day of a given date.\n",
        "# Expected Output:\n",
        "\n",
        "# Input a year: 2016\n",
        "\n",
        "# Input a month [1-12]: 08\n",
        "\n",
        "# Input a day [1-31]: 23\n",
        "\n",
        "# The next date is [yyyy-mm-dd] 2016-8-24#\n",
        "Year = str(input(\"enter the yerar:\"))\n",
        "months = int(input(\"enter the months\"))\n",
        "dates = int(input(\"enter the date\"))\n",
        "\n",
        "if (months>0 and months<11) and (dates>0 and dates<30) and (len(Year)==4):\n",
        "  print(\"next date is\",Year,months ,dates+1)\n",
        "else:\n",
        "  print(\"input is invalid\")\n",
        "\n"
      ],
      "metadata": {
        "colab": {
          "base_uri": "https://localhost:8080/"
        },
        "id": "TmfBPfIyeBNU",
        "outputId": "4fa2488c-ebc8-4fc7-9f5c-25007dbd834c"
      },
      "execution_count": 103,
      "outputs": [
        {
          "output_type": "stream",
          "name": "stdout",
          "text": [
            "enter the yerar:3456\n",
            "enter the months4\n",
            "enter the date234\n",
            "input is invalid\n"
          ]
        }
      ]
    }
  ],
  "metadata": {
    "colab": {
      "provenance": []
    },
    "kernelspec": {
      "display_name": "Python 3",
      "name": "python3"
    },
    "language_info": {
      "name": "python"
    }
  },
  "nbformat": 4,
  "nbformat_minor": 0
}