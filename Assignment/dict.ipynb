{
  "nbformat": 4,
  "nbformat_minor": 0,
  "metadata": {
    "colab": {
      "provenance": []
    },
    "kernelspec": {
      "name": "python3",
      "display_name": "Python 3"
    },
    "language_info": {
      "name": "python"
    }
  },
  "cells": [
    {
      "cell_type": "code",
      "execution_count": 11,
      "metadata": {
        "colab": {
          "base_uri": "https://localhost:8080/"
        },
        "id": "wwur4nFSlpfN",
        "outputId": "43931b32-720c-4461-c5c3-076997b37c30"
      },
      "outputs": [
        {
          "output_type": "stream",
          "name": "stdout",
          "text": [
            "{'a': 'applele', 'b': 'ball', 'c': 'cat', 'd': 'dog', 'e': 'egg'}\n"
          ]
        },
        {
          "output_type": "execute_result",
          "data": {
            "text/plain": [
              "['__class__',\n",
              " '__class_getitem__',\n",
              " '__contains__',\n",
              " '__delattr__',\n",
              " '__delitem__',\n",
              " '__dir__',\n",
              " '__doc__',\n",
              " '__eq__',\n",
              " '__format__',\n",
              " '__ge__',\n",
              " '__getattribute__',\n",
              " '__getitem__',\n",
              " '__gt__',\n",
              " '__hash__',\n",
              " '__init__',\n",
              " '__init_subclass__',\n",
              " '__ior__',\n",
              " '__iter__',\n",
              " '__le__',\n",
              " '__len__',\n",
              " '__lt__',\n",
              " '__ne__',\n",
              " '__new__',\n",
              " '__or__',\n",
              " '__reduce__',\n",
              " '__reduce_ex__',\n",
              " '__repr__',\n",
              " '__reversed__',\n",
              " '__ror__',\n",
              " '__setattr__',\n",
              " '__setitem__',\n",
              " '__sizeof__',\n",
              " '__str__',\n",
              " '__subclasshook__',\n",
              " 'clear',\n",
              " 'copy',\n",
              " 'fromkeys',\n",
              " 'get',\n",
              " 'items',\n",
              " 'keys',\n",
              " 'pop',\n",
              " 'popitem',\n",
              " 'setdefault',\n",
              " 'update',\n",
              " 'values']"
            ]
          },
          "metadata": {},
          "execution_count": 11
        }
      ],
      "source": [
        "#UPDATE HELPS TO ADD NEW DIXXTIOANR AND JOIN THEN TO SINGLE\n",
        "A = {'a' : 'applele', 'b': 'ball', 'c': 'cat'}\n",
        "B = {'d':'dog','e':'egg'}\n",
        "A.update(B)\n",
        "print(A)\n",
        "dir(A)"
      ]
    },
    {
      "cell_type": "code",
      "source": [
        "#GIVE THE KEYS ASSIGNED TO VALUES\n",
        "A = {'a' : 'applele', 'b': 'ball', 'c': 'cat'}\n",
        "A.keys()"
      ],
      "metadata": {
        "colab": {
          "base_uri": "https://localhost:8080/"
        },
        "id": "CDlW8LQWmKfa",
        "outputId": "6048f7dc-aaff-466e-8880-e4fc88948297"
      },
      "execution_count": 5,
      "outputs": [
        {
          "output_type": "execute_result",
          "data": {
            "text/plain": [
              "dict_keys(['a', 'b', 'c'])"
            ]
          },
          "metadata": {},
          "execution_count": 5
        }
      ]
    },
    {
      "cell_type": "code",
      "source": [
        "# GIVE THE VALUES ASSINGED TOCORRESPONDING KEYS\n",
        "A = {'a' : 'applele', 'b': 'ball', 'c': 'cat'}\n",
        "A.values()"
      ],
      "metadata": {
        "colab": {
          "base_uri": "https://localhost:8080/"
        },
        "id": "bOb6OkgCmNcT",
        "outputId": "88f3bfcd-8e8a-47f7-e40b-934147d39c0a"
      },
      "execution_count": 6,
      "outputs": [
        {
          "output_type": "execute_result",
          "data": {
            "text/plain": [
              "dict_values(['applele', 'ball', 'cat'])"
            ]
          },
          "metadata": {},
          "execution_count": 6
        }
      ]
    },
    {
      "cell_type": "code",
      "source": [
        "#REMOVES ALL THE ELEMENTS FORM THE DICTIONATY\n",
        "A = {'a' : 'applele', 'b': 'ball', 'c': 'cat'}\n",
        "A.clear()\n",
        "print(A)"
      ],
      "metadata": {
        "colab": {
          "base_uri": "https://localhost:8080/"
        },
        "id": "VEv5olKEmYLL",
        "outputId": "1c70d00b-d663-4ff2-e620-ff132347a0c6"
      },
      "execution_count": 8,
      "outputs": [
        {
          "output_type": "stream",
          "name": "stdout",
          "text": [
            "{}\n"
          ]
        }
      ]
    },
    {
      "cell_type": "code",
      "source": [
        "#POP REMOVE THE ASSINGED KEY VALUES FROM THE DICTIOAARY\n",
        "A = {'a' : 'applele', 'b': 'ball', 'c': 'cat'}\n",
        "A.pop('a')\n",
        "print(A)"
      ],
      "metadata": {
        "colab": {
          "base_uri": "https://localhost:8080/"
        },
        "id": "WnRYsp40mkrP",
        "outputId": "26e7f8d8-10bb-45f1-f092-26509f4a023a"
      },
      "execution_count": 10,
      "outputs": [
        {
          "output_type": "stream",
          "name": "stdout",
          "text": [
            "{'b': 'ball', 'c': 'cat'}\n"
          ]
        }
      ]
    },
    {
      "cell_type": "code",
      "source": [
        "#give sthe length of the dictionary\n",
        "A = {'a' : 'applele', 'b': 'ball', 'c': 'cat'}\n",
        "len(A)"
      ],
      "metadata": {
        "colab": {
          "base_uri": "https://localhost:8080/"
        },
        "id": "Q42NJT3tm4tO",
        "outputId": "5d46e41d-d8ca-42ca-e419-8ea231751f5b"
      },
      "execution_count": 12,
      "outputs": [
        {
          "output_type": "execute_result",
          "data": {
            "text/plain": [
              "3"
            ]
          },
          "metadata": {},
          "execution_count": 12
        }
      ]
    },
    {
      "cell_type": "code",
      "source": [],
      "metadata": {
        "id": "FgOW53uKnB02"
      },
      "execution_count": null,
      "outputs": []
    }
  ]
}