{
  "nbformat": 4,
  "nbformat_minor": 0,
  "metadata": {
    "colab": {
      "provenance": []
    },
    "kernelspec": {
      "name": "python3",
      "display_name": "Python 3"
    },
    "language_info": {
      "name": "python"
    }
  },
  "cells": [
    {
      "cell_type": "code",
      "execution_count": null,
      "metadata": {
        "id": "f4D9ar3l2_bB"
      },
      "outputs": [],
      "source": [
        "if (percent >= 80):\n",
        "  print(\"pass in dis\")\n",
        "elif percent  >=70:\n",
        "  print(\"pass \")\n",
        "elif percent  >=40:\n",
        "  print(\"fail\")\n",
        "else:\n",
        "  print(\"better lick nect time\")\n"
      ]
    },
    {
      "cell_type": "markdown",
      "source": [],
      "metadata": {
        "id": "VlTE3SGj8Z9u"
      }
    },
    {
      "cell_type": "code",
      "source": [
        "# Lambda Equivalent\n",
        "# result = lambda x,y : f\"{x} is smaller than {y}\" \\\n",
        "# if x < y else (f\"{x} is greater than {y}\" if x > y \\\n",
        "              #  else f\"{x} is equal to {y}\")"
      ],
      "metadata": {
        "id": "K_rfa_it5X7H"
      },
      "execution_count": null,
      "outputs": []
    },
    {
      "cell_type": "code",
      "source": [
        "result = lambda percent: f\"{percent} is pass indiction\" if percent >= 80 else (\\\n",
        "f\"{percent} is pass first\" if percent>=70 else                                 (\\\n",
        "          f\"{percent} is pass\")\n",
        "percent = int(input(\"enter number\"))\n",
        "result(percent)"
      ],
      "metadata": {
        "id": "LBg5erTm5otg"
      },
      "execution_count": null,
      "outputs": []
    },
    {
      "cell_type": "code",
      "source": [
        "def fun_sum(a,b):\n",
        "  return a + b"
      ],
      "metadata": {
        "id": "KLgDZNuo_wTD"
      },
      "execution_count": 18,
      "outputs": []
    },
    {
      "cell_type": "code",
      "source": [
        "def fun_sum(a,b,c,d):\n",
        "  return a+b+c+d\n",
        ""
      ],
      "metadata": {
        "id": "tyBU4PLB_6T8"
      },
      "execution_count": null,
      "outputs": []
    },
    {
      "cell_type": "code",
      "source": [
        "def fun_sum(a,b,c,d,e,f,g,h i):\n",
        "  return a+b+c+d+e+f+g+h+i"
      ],
      "metadata": {
        "id": "osgU_XOBADNu"
      },
      "execution_count": null,
      "outputs": []
    },
    {
      "cell_type": "code",
      "source": [
        "# from IPython.core.magics.history import argument\n",
        "# def fun_sum(*args) # as argumnets fro numbers of arguments"
      ],
      "metadata": {
        "id": "CQMnV7EUA2WH"
      },
      "execution_count": null,
      "outputs": []
    },
    {
      "cell_type": "code",
      "source": [
        "def values_10(*input):\n",
        "  return input\n",
        "values_10([1,2,3],{'a': 4},{5,6,7,8},910)"
      ],
      "metadata": {
        "colab": {
          "base_uri": "https://localhost:8080/"
        },
        "id": "kSEaqzDfBiNr",
        "outputId": "88ca97fb-5da6-4734-fc78-150caca4e81e"
      },
      "execution_count": 71,
      "outputs": [
        {
          "output_type": "execute_result",
          "data": {
            "text/plain": [
              "([1, 2, 3], {'a': 4}, {5, 6, 7, 8}, 910)"
            ]
          },
          "metadata": {},
          "execution_count": 71
        }
      ]
    },
    {
      "cell_type": "code",
      "source": [
        "\n",
        "ram = str(input(\"enter the arguments nubeer:\"))\n",
        "def choices(*ram):\n",
        "  for choice in (1,ram):\n",
        "      choice = str(choice)\n",
        "      product = ram + choice\n",
        "      return product\n",
        "choices()"
      ],
      "metadata": {
        "id": "gKi-U5KjDBVZ"
      },
      "execution_count": null,
      "outputs": []
    },
    {
      "cell_type": "code",
      "source": [
        "def fun_sum(a,b,c,*args):\n",
        "  return a+b+c+(sum(args))\n",
        "fun_sum(1,2,3,45,67,78,345,9)"
      ],
      "metadata": {
        "colab": {
          "base_uri": "https://localhost:8080/"
        },
        "id": "9bg0yjHWFhlp",
        "outputId": "4de6691c-734e-4fa3-848c-0bd74ff0285f"
      },
      "execution_count": 56,
      "outputs": [
        {
          "output_type": "execute_result",
          "data": {
            "text/plain": [
              "550"
            ]
          },
          "metadata": {},
          "execution_count": 56
        }
      ]
    },
    {
      "cell_type": "code",
      "source": [
        "def fun_sum(*args):\n",
        "  return (sum(args))\n",
        "fun_sum(1,2,3,45,67,78,345,9)"
      ],
      "metadata": {
        "colab": {
          "base_uri": "https://localhost:8080/"
        },
        "id": "TXla0PikGAxx",
        "outputId": "3f6ad746-a602-493e-dc82-bd88c35c9d25"
      },
      "execution_count": 68,
      "outputs": [
        {
          "output_type": "execute_result",
          "data": {
            "text/plain": [
              "550"
            ]
          },
          "metadata": {},
          "execution_count": 68
        }
      ]
    },
    {
      "cell_type": "code",
      "source": [
        "# taken numbers of argumnets and goes into args\n",
        "# we can have any combination of tuplesa and any avalues of args, list, tuples, dictionar, array, vector"
      ],
      "metadata": {
        "id": "2yWb5lSHHD4U"
      },
      "execution_count": null,
      "outputs": []
    },
    {
      "cell_type": "code",
      "source": [
        "def fun_sum(*args):\n",
        "  return (sum(args))\n",
        "fun_sum(1,2,3,45,)"
      ],
      "metadata": {
        "colab": {
          "base_uri": "https://localhost:8080/"
        },
        "id": "EwdXxwczIHlH",
        "outputId": "2968f1b8-ca19-4788-fbd5-0ed65e2a9245"
      },
      "execution_count": 78,
      "outputs": [
        {
          "output_type": "execute_result",
          "data": {
            "text/plain": [
              "51"
            ]
          },
          "metadata": {},
          "execution_count": 78
        }
      ]
    },
    {
      "cell_type": "code",
      "source": [
        "# key value arguments, **kwrs Kekword argumnets\n"
      ],
      "metadata": {
        "id": "MKirp7fIKCTH"
      },
      "execution_count": null,
      "outputs": []
    },
    {
      "cell_type": "code",
      "source": [
        "def fun_sum(**kwargs):\n",
        "  return kwargs\n"
      ],
      "metadata": {
        "id": "CW9I8PCcKd9d"
      },
      "execution_count": 82,
      "outputs": []
    },
    {
      "cell_type": "code",
      "source": [
        "fun_sum(fname = 'ram',mdname = 'prasad', lname= 'gaire')"
      ],
      "metadata": {
        "colab": {
          "base_uri": "https://localhost:8080/"
        },
        "id": "Ajlx782qKkeb",
        "outputId": "5b102fa0-9653-4f85-c194-152e3e1f0d58"
      },
      "execution_count": 83,
      "outputs": [
        {
          "output_type": "execute_result",
          "data": {
            "text/plain": [
              "{'fname': 'ram', 'mdname': 'prasad', 'lname': 'gaire'}"
            ]
          },
          "metadata": {},
          "execution_count": 83
        }
      ]
    },
    {
      "cell_type": "code",
      "source": [
        "# key and values are required for the arguments\n",
        "def fun_work(**code):\n",
        "  a = len(code)\n",
        "  b = code.pop('langa')\n",
        "  for\n",
        "  return b,a"
      ],
      "metadata": {
        "id": "nSZpSzj3LBS-"
      },
      "execution_count": 122,
      "outputs": []
    },
    {
      "cell_type": "code",
      "source": [
        "fun_work(langa= 'python',rate= \"3\",useful= \"not much\", now = \"tonday\")"
      ],
      "metadata": {
        "colab": {
          "base_uri": "https://localhost:8080/"
        },
        "id": "E3MZv1blLhEE",
        "outputId": "2481f36c-fa0c-44e7-d0dc-8b5a57094252"
      },
      "execution_count": 123,
      "outputs": [
        {
          "output_type": "execute_result",
          "data": {
            "text/plain": [
              "('python', 4)"
            ]
          },
          "metadata": {},
          "execution_count": 123
        }
      ]
    },
    {
      "cell_type": "code",
      "source": [
        "def fun_work(*program,**code):\n",
        "  a = len(code)\n",
        "  b = code.pop(('langa'))\n",
        "  for i in program:\n",
        "    c = print('values in arg are',i)\n",
        "  return b,a"
      ],
      "metadata": {
        "id": "qN26qj-gNsMI"
      },
      "execution_count": 147,
      "outputs": []
    },
    {
      "cell_type": "code",
      "source": [
        "fun_work([1,2,4,5],langa= 'python',rate= \"3\",useful= \"not much\", now = \"tonday\",c =4,r=6)"
      ],
      "metadata": {
        "colab": {
          "base_uri": "https://localhost:8080/"
        },
        "id": "h7tUl1YoNzib",
        "outputId": "4c0e2613-86c2-4457-967b-c230de57f6a9"
      },
      "execution_count": 150,
      "outputs": [
        {
          "output_type": "stream",
          "name": "stdout",
          "text": [
            "values in arg are [1, 2, 4, 5]\n"
          ]
        },
        {
          "output_type": "execute_result",
          "data": {
            "text/plain": [
              "('python', 6)"
            ]
          },
          "metadata": {},
          "execution_count": 150
        }
      ]
    },
    {
      "cell_type": "code",
      "source": [
        "# first alawys normal varilabe , then args then kwargs"
      ],
      "metadata": {
        "id": "yh6Y4czVOO-x"
      },
      "execution_count": 151,
      "outputs": []
    }
  ]
}