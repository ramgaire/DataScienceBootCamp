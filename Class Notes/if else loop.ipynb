{
 "cells": [
  {
   "cell_type": "code",
   "execution_count": null,
   "id": "a8b6b572",
   "metadata": {},
   "outputs": [],
   "source": [
    "#check if a number is divisible by 7 or not\n",
    "\n",
    "#Write a program to print hello if number is multiple of five or 3 else print bye\n",
    "a = 57\n",
    "if a % 7 == 0:\n",
    " print('number is divisible by 7') # indentation print statements is insdie the if condition\n",
    "else:\n",
    " print(\"number is not divisible by 7\")\n"
   ]
  },
  {
   "cell_type": "code",
   "execution_count": 24,
   "id": "5a1b1510",
   "metadata": {},
   "outputs": [
    {
     "name": "stdout",
     "output_type": "stream",
     "text": [
      "hello\n"
     ]
    }
   ],
   "source": [
    "a = 18\n",
    "if a % 3 == 0 an a % 5 ==0:\n",
    "    print(a%3)\n",
    " print('hello')\n",
    "else:\n",
    " print(\"bye\")"
   ]
  },
  {
   "cell_type": "code",
   "execution_count": 12,
   "id": "6266aa8f",
   "metadata": {},
   "outputs": [
    {
     "name": "stdout",
     "output_type": "stream",
     "text": [
      "Enter the color of light:-YELLOH\n",
      "unrecognized signal. Example black, blue, etc…\n"
     ]
    }
   ],
   "source": [
    "#If the light is green – Car is allowed to go\n",
    "#If the light is yellow – Car has to wait\n",
    "#If the light is red – Car has to stop\n",
    "#Other signal – unrecognized signal. Example black, blue, etc…\n",
    "color_of_light = input(\"Enter the color of light:-\").lower() # handle the cases.\n",
    "if color_of_light=='green':\n",
    "    print(\"Car is allowed to go\")\n",
    "elif color_of_light == 'yellow':\n",
    "    print(\"Car has to wait\")\n",
    "elif color_of_light=='red':\n",
    "    print(\"Car has to stop\")\n",
    "else:\n",
    "    print(\"unrecognized signal. Example black, blue, etc…\")\n",
    "        \n",
    "    "
   ]
  },
  {
   "cell_type": "code",
   "execution_count": 32,
   "id": "25a6f696",
   "metadata": {},
   "outputs": [
    {
     "name": "stdout",
     "output_type": "stream",
     "text": [
      "enter the student name:-Ram\n",
      "enter the clss number:-5\n",
      "enter the class section:-g\n",
      "enter the marks:--50\n",
      "mark should be between 0 and 100 only”\n"
     ]
    }
   ],
   "source": [
    "#(If the subject mark is below 0 and above 100, print “error: mark should be between 0 and 100 only”\n",
    "#Students will fail in the subject if their mark is below 50.\n",
    "#Students will pass in the subject if they score 50 and above.\n",
    "#If subject mark is between 50 and 60, grade student as good.\n",
    "#If subject mark is between 60 and 80, grade student as very good.\n",
    "#If subject mark is between 80 and 100, grade student as outstanding.\n",
    "\n",
    "#Make sure to print their mark in every statement to prove that the condition is fulfilled. Moreover, name, class, and section should be also displayed along with the marks.)\n",
    "\n",
    "student_name = input(\"enter the student name:-\").title()\n",
    "student_claas = input(\"enter the clss number:-\")\n",
    "student_section = input(\"enter the class section:-\").lower\n",
    "subject_mark = input(\"enter the marks:-\")\n",
    "subject_marks= float(subject_mark)\n",
    "if  subject_marks >100 or subject_marks < 0:\n",
    "    print(\"mark should be between 0 and 100 only”\")\n",
    "elif subject_marks < 50:\n",
    "     print(\"students will fail in the subject if their mark is below 50.\")\n",
    "     print(\"name\",student_name)\n",
    "     print(\"clss\",student_claas)\n",
    "     print(\"section\",student_section)\n",
    "elif subject_marks >=50 and subject_marks<=60:\n",
    "    print(\"student as good.\")\n",
    "    print(\"name:\",student_name)\n",
    "    print(\"clss:\",student_claas)\n",
    "    print(\"section:\",student_section)\n",
    "    \n",
    "elif subject_marks >=60 and subject_marks<=80:\n",
    "    print(\"student as very good.\")\n",
    "    print(\"name:\",student_name)\n",
    "    print(\"clss:\",student_claas)\n",
    "    print(\"section:\",student_section)\n",
    "elif subject_marks >=80 and subject_marks<=100:\n",
    "    print(\"student as outstanding\")\n",
    "    print(\"name:\",student_name)\n",
    "    print(\"clss:\",student_claas)\n",
    "    print(\"section:\",student_section)\n",
    "\n",
    "\n"
   ]
  }
 ],
 "metadata": {
  "kernelspec": {
   "display_name": "Python 3 (ipykernel)",
   "language": "python",
   "name": "python3"
  },
  "language_info": {
   "codemirror_mode": {
    "name": "ipython",
    "version": 3
   },
   "file_extension": ".py",
   "mimetype": "text/x-python",
   "name": "python",
   "nbconvert_exporter": "python",
   "pygments_lexer": "ipython3",
   "version": "3.11.3"
  }
 },
 "nbformat": 4,
 "nbformat_minor": 5
}
