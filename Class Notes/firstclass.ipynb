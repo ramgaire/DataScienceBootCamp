{
  "nbformat": 4,
  "nbformat_minor": 0,
  "metadata": {
    "colab": {
      "provenance": []
    },
    "kernelspec": {
      "name": "python3",
      "display_name": "Python 3"
    },
    "language_info": {
      "name": "python"
    }
  },
  "cells": [
    {
      "cell_type": "code",
      "execution_count": 24,
      "metadata": {
        "colab": {
          "base_uri": "https://localhost:8080/"
        },
        "id": "khaQhaAjUb5X",
        "outputId": "085f6bf0-1538-42c2-ff48-22798f7f8905"
      },
      "outputs": [
        {
          "output_type": "stream",
          "name": "stdout",
          "text": [
            "hello\n"
          ]
        }
      ],
      "source": [
        "#syntax error than code goes by lin eby line\n",
        "#her is error in varible then it doesn’t work and gives erros\n",
        "ram = 'hello'\n",
        "print(ram)\n",
        "#ibm create auto learning machine to defeat chesses deep 1997 blue. machine learning\n",
        "\n",
        "\n",
        "\n"
      ]
    }
  ]
}