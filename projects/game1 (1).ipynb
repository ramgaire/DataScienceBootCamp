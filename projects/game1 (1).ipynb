{
  "cells": [
    {
      "cell_type": "code",
      "execution_count": 114,
      "metadata": {
        "id": "5lXG-rLAnXtB"
      },
      "outputs": [],
      "source": []
    },
    {
      "cell_type": "code",
      "execution_count": 131,
      "metadata": {
        "colab": {
          "base_uri": "https://localhost:8080/"
        },
        "id": "c6jHb7D5gs3F",
        "outputId": "278d0ff5-f526-433e-cdfc-615c7299e772"
      },
      "outputs": [
        {
          "name": "stdout",
          "output_type": "stream",
          "text": [
            "Enter the user choise:rock\n",
            "scissors\n",
            "Enter the user choise:paper\n",
            "paper\n",
            "its tie need to play again paper\n"
          ]
        }
      ],
      "source": [
        "while (user_choice)!=computer_action:\n",
        "  user_choice = (input(\"Enter the user choise:\" ))\n",
        "  import random\n",
        "  possible_actions = [\"rock\", \"paper\",\"scissors\"]\n",
        "  computer_action = random.choice(possible_actions)\n",
        "  print(computer_action)\n",
        "  if user_choice==('paper') and computer_action=='rock':\n",
        "    print(\"you win\")\n",
        "    break\n",
        "  if user_choice== ('scissors') and computer_action== 'paper':\n",
        "    print('user win')\n",
        "    break\n",
        "  if user_choice == ('rock') and computer_action== 'scissor':\n",
        "    print('user_win')\n",
        "    break\n",
        "else:\n",
        "    print('its tie need to play again',user_choice)\n"
      ]
    },
    {
      "cell_type": "code",
      "execution_count": 70,
      "metadata": {
        "id": "Hl2_ZiAmjSnU"
      },
      "outputs": [],
      "source": []
    }
  ],
  "metadata": {
    "colab": {
      "provenance": []
    },
    "kernelspec": {
      "display_name": "Python 3",
      "name": "python3"
    },
    "language_info": {
      "name": "python"
    }
  },
  "nbformat": 4,
  "nbformat_minor": 0
}
